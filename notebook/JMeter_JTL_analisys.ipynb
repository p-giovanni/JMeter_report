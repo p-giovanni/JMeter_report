{
 "cells": [
  {
   "cell_type": "code",
   "execution_count": 1,
   "metadata": {},
   "outputs": [],
   "source": [
    "import os\n",
    "import re\n",
    "import sys\n",
    "import json\n",
    "import codecs\n",
    "import locale\n",
    "import logging\n",
    "import requests\n",
    "from enum import Enum\n",
    "import datetime as dt\n",
    "from typing import Union, Optional, Tuple, List, cast\n",
    "\n",
    "from matplotlib import pyplot as plt    # type: ignore  \n",
    "import matplotlib.gridspec as gridspec  # type: ignore \n",
    "\n",
    "import pandas as pd\n",
    "import numpy as np"
   ]
  },
  {
   "cell_type": "code",
   "execution_count": 2,
   "metadata": {},
   "outputs": [],
   "source": [
    "#----------------------------------------------------------------\n",
    "# Configurations section\n",
    "#----------------------------------------------------------------\n",
    "\n",
    "temp_content_dir = os.path.join(os.sep, 'tmp')\n",
    "images_path = os.path.join(\"..\",\"images\")\n",
    "\n",
    "now = dt.datetime.now()\n",
    "sample_date = now.strftime(\"%d/%m/%Y\")\n",
    "\n",
    "locale.setlocale(locale.LC_ALL, 'it_IT.UTF-8')\n",
    "\n",
    "ok_statuses = [200, 201, 202]\n",
    "data_file_path = os.path.join(os.sep,\"Users\",\"ERIZZAG5J\",\"Work\",\"jmeter\")\n",
    "data_file_name = \"VAS-manifest-akamai_20220216_080823.jtl\"\n",
    "csv_data_file = os.path.join(data_file_path, data_file_name)\n",
    "\n",
    "image_file_prefix = \"Test-\"\n",
    "\n",
    "class TypeOfOutputChart(Enum):\n",
    "    PDF = 1\n",
    "    PNG = 2\n",
    "    JPG = 3\n",
    "\n",
    "output_chart_type = TypeOfOutputChart.JPG"
   ]
  },
  {
   "cell_type": "code",
   "execution_count": 3,
   "metadata": {},
   "outputs": [
    {
     "data": {
      "text/plain": [
       "(37005,\n",
       " timeStamp            int64\n",
       " elapsed              int64\n",
       " label               object\n",
       " responseCode         int64\n",
       " responseMessage     object\n",
       " threadName          object\n",
       " dataType            object\n",
       " success               bool\n",
       " failureMessage      object\n",
       " bytes                int64\n",
       " sentBytes            int64\n",
       " grpThreads           int64\n",
       " allThreads           int64\n",
       " URL                 object\n",
       " Filename           float64\n",
       " Latency              int64\n",
       " SampleCount          int64\n",
       " ErrorCount           int64\n",
       " Hostname            object\n",
       " IdleTime             int64\n",
       " Connect              int64\n",
       " dtype: object)"
      ]
     },
     "execution_count": 3,
     "metadata": {},
     "output_type": "execute_result"
    }
   ],
   "source": [
    "df = pd.read_csv(csv_data_file\n",
    "                ,sep='#')  \n",
    "(df.shape[0],df.dtypes)"
   ]
  },
  {
   "cell_type": "code",
   "execution_count": 5,
   "metadata": {},
   "outputs": [],
   "source": [
    "#hit = df.groupby([\"CACHE_HIT\"]).sum()\n",
    "#hit"
   ]
  },
  {
   "cell_type": "code",
   "execution_count": 6,
   "metadata": {},
   "outputs": [
    {
     "data": {
      "text/html": [
       "<div>\n",
       "<style scoped>\n",
       "    .dataframe tbody tr th:only-of-type {\n",
       "        vertical-align: middle;\n",
       "    }\n",
       "\n",
       "    .dataframe tbody tr th {\n",
       "        vertical-align: top;\n",
       "    }\n",
       "\n",
       "    .dataframe thead th {\n",
       "        text-align: right;\n",
       "    }\n",
       "</style>\n",
       "<table border=\"1\" class=\"dataframe\">\n",
       "  <thead>\n",
       "    <tr style=\"text-align: right;\">\n",
       "      <th></th>\n",
       "      <th>threadName</th>\n",
       "      <th>grpThreads</th>\n",
       "      <th>allThreads</th>\n",
       "    </tr>\n",
       "  </thead>\n",
       "  <tbody>\n",
       "    <tr>\n",
       "      <th>0</th>\n",
       "      <td>setUp Thread Group 1-1</td>\n",
       "      <td>1</td>\n",
       "      <td>1</td>\n",
       "    </tr>\n",
       "    <tr>\n",
       "      <th>1</th>\n",
       "      <td>setUp Thread Group 1-1</td>\n",
       "      <td>1</td>\n",
       "      <td>1</td>\n",
       "    </tr>\n",
       "    <tr>\n",
       "      <th>2</th>\n",
       "      <td>Manifest 1-1</td>\n",
       "      <td>1</td>\n",
       "      <td>1</td>\n",
       "    </tr>\n",
       "    <tr>\n",
       "      <th>3</th>\n",
       "      <td>Manifest 1-1</td>\n",
       "      <td>1</td>\n",
       "      <td>1</td>\n",
       "    </tr>\n",
       "    <tr>\n",
       "      <th>4</th>\n",
       "      <td>Manifest 1-1</td>\n",
       "      <td>1</td>\n",
       "      <td>1</td>\n",
       "    </tr>\n",
       "    <tr>\n",
       "      <th>...</th>\n",
       "      <td>...</td>\n",
       "      <td>...</td>\n",
       "      <td>...</td>\n",
       "    </tr>\n",
       "    <tr>\n",
       "      <th>37000</th>\n",
       "      <td>Manifest 1-32</td>\n",
       "      <td>3</td>\n",
       "      <td>3</td>\n",
       "    </tr>\n",
       "    <tr>\n",
       "      <th>37001</th>\n",
       "      <td>Manifest 1-12</td>\n",
       "      <td>3</td>\n",
       "      <td>3</td>\n",
       "    </tr>\n",
       "    <tr>\n",
       "      <th>37002</th>\n",
       "      <td>Manifest 1-17</td>\n",
       "      <td>1</td>\n",
       "      <td>1</td>\n",
       "    </tr>\n",
       "    <tr>\n",
       "      <th>37003</th>\n",
       "      <td>tearDown Thread Group 1-1</td>\n",
       "      <td>1</td>\n",
       "      <td>1</td>\n",
       "    </tr>\n",
       "    <tr>\n",
       "      <th>37004</th>\n",
       "      <td>tearDown Thread Group 1-1</td>\n",
       "      <td>1</td>\n",
       "      <td>1</td>\n",
       "    </tr>\n",
       "  </tbody>\n",
       "</table>\n",
       "<p>37005 rows × 3 columns</p>\n",
       "</div>"
      ],
      "text/plain": [
       "                      threadName  grpThreads  allThreads\n",
       "0         setUp Thread Group 1-1           1           1\n",
       "1         setUp Thread Group 1-1           1           1\n",
       "2                   Manifest 1-1           1           1\n",
       "3                   Manifest 1-1           1           1\n",
       "4                   Manifest 1-1           1           1\n",
       "...                          ...         ...         ...\n",
       "37000              Manifest 1-32           3           3\n",
       "37001              Manifest 1-12           3           3\n",
       "37002              Manifest 1-17           1           1\n",
       "37003  tearDown Thread Group 1-1           1           1\n",
       "37004  tearDown Thread Group 1-1           1           1\n",
       "\n",
       "[37005 rows x 3 columns]"
      ]
     },
     "execution_count": 6,
     "metadata": {},
     "output_type": "execute_result"
    }
   ],
   "source": [
    "df.loc[:,[\"threadName\",\"grpThreads\",\"allThreads\"]]"
   ]
  },
  {
   "cell_type": "code",
   "execution_count": 7,
   "metadata": {},
   "outputs": [
    {
     "data": {
      "text/plain": [
       "array(['setUp Thread Group 1-1', 'Manifest 1-1', 'Manifest 1-2',\n",
       "       'Manifest 1-3', 'Manifest 1-4', 'Manifest 1-5', 'Manifest 1-6',\n",
       "       'Manifest 1-7', 'Manifest 1-8', 'Manifest 1-9', 'Manifest 1-10',\n",
       "       'Manifest 1-11', 'Manifest 1-12', 'Manifest 1-13', 'Manifest 1-14',\n",
       "       'Manifest 1-15', 'Manifest 1-16', 'Manifest 1-17', 'Manifest 1-18',\n",
       "       'Manifest 1-19', 'Manifest 1-20', 'Manifest 1-21', 'Manifest 1-22',\n",
       "       'Manifest 1-23', 'Manifest 1-24', 'Manifest 1-25', 'Manifest 1-26',\n",
       "       'Manifest 1-27', 'Manifest 1-28', 'Manifest 1-29', 'Manifest 1-30',\n",
       "       'Manifest 1-31', 'Manifest 1-32', 'Manifest 1-33', 'Manifest 1-34',\n",
       "       'Manifest 1-35', 'tearDown Thread Group 1-1'], dtype=object)"
      ]
     },
     "execution_count": 7,
     "metadata": {},
     "output_type": "execute_result"
    }
   ],
   "source": [
    "df.loc[:,\"threadName\"].unique()"
   ]
  },
  {
   "cell_type": "code",
   "execution_count": null,
   "metadata": {},
   "outputs": [],
   "source": []
  }
 ],
 "metadata": {
  "kernelspec": {
   "display_name": "Python 3 (ipykernel)",
   "language": "python",
   "name": "python3"
  },
  "language_info": {
   "codemirror_mode": {
    "name": "ipython",
    "version": 3
   },
   "file_extension": ".py",
   "mimetype": "text/x-python",
   "name": "python",
   "nbconvert_exporter": "python",
   "pygments_lexer": "ipython3",
   "version": "3.8.9"
  }
 },
 "nbformat": 4,
 "nbformat_minor": 4
}
