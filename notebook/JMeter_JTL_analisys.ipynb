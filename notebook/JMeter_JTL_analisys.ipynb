{
 "cells": [
  {
   "cell_type": "code",
   "execution_count": 1,
   "metadata": {},
   "outputs": [],
   "source": [
    "import os\n",
    "import re\n",
    "import sys\n",
    "import json\n",
    "import codecs\n",
    "import locale\n",
    "import logging\n",
    "import requests\n",
    "from enum import Enum\n",
    "import datetime as dt\n",
    "from typing import Union, Optional, Tuple, List, cast\n",
    "\n",
    "from matplotlib import pyplot as plt    # type: ignore  \n",
    "import matplotlib.gridspec as gridspec  # type: ignore \n",
    "\n",
    "import pandas as pd\n",
    "import numpy as np"
   ]
  },
  {
   "cell_type": "code",
   "execution_count": 17,
   "metadata": {},
   "outputs": [],
   "source": [
    "#----------------------------------------------------------------\n",
    "# Configurations section\n",
    "#----------------------------------------------------------------\n",
    "\n",
    "temp_content_dir = os.path.join(os.sep, 'tmp')\n",
    "images_path = os.path.join(\"..\",\"images\")\n",
    "\n",
    "now = dt.datetime.now()\n",
    "sample_date = now.strftime(\"%d/%m/%Y\")\n",
    "\n",
    "locale.setlocale(locale.LC_ALL, 'it_IT.UTF-8')\n",
    "\n",
    "ok_statuses = [200, 201, 202]\n",
    "data_file_path = os.path.join(os.sep,\"mnt\",\"c\",\"Users\",\"rizzardig\",\"Documents\",\"vbox\",\"Sky\",\"JMeter-esempi\",\"video_api\",\"log\")\n",
    "data_file_name = \"VIDEO_API-listing_20211103_145708.jtl\"\n",
    "csv_data_file = os.path.join(data_file_path, data_file_name)\n",
    "\n",
    "image_file_prefix = \"Test-\"\n",
    "\n",
    "class TypeOfOutputChart(Enum):\n",
    "    PDF = 1\n",
    "    PNG = 2\n",
    "    JPG = 3\n",
    "\n",
    "output_chart_type = TypeOfOutputChart.JPG"
   ]
  },
  {
   "cell_type": "code",
   "execution_count": 18,
   "metadata": {},
   "outputs": [
    {
     "data": {
      "text/plain": [
       "(483,\n",
       " timeStamp            int64\n",
       " elapsed              int64\n",
       " label               object\n",
       " responseCode         int64\n",
       " responseMessage     object\n",
       " threadName          object\n",
       " dataType            object\n",
       " success               bool\n",
       " failureMessage      object\n",
       " bytes                int64\n",
       " sentBytes            int64\n",
       " grpThreads           int64\n",
       " allThreads           int64\n",
       " URL                 object\n",
       " Filename           float64\n",
       " Latency              int64\n",
       " Encoding            object\n",
       " SampleCount          int64\n",
       " ErrorCount           int64\n",
       " Hostname            object\n",
       " IdleTime             int64\n",
       " Connect              int64\n",
       " dtype: object)"
      ]
     },
     "execution_count": 18,
     "metadata": {},
     "output_type": "execute_result"
    }
   ],
   "source": [
    "df = pd.read_csv(csv_data_file\n",
    "                ,sep='#')  \n",
    "(df.shape[0],df.dtypes)"
   ]
  },
  {
   "cell_type": "code",
   "execution_count": 19,
   "metadata": {},
   "outputs": [
    {
     "data": {
      "text/html": [
       "<div>\n",
       "<style scoped>\n",
       "    .dataframe tbody tr th:only-of-type {\n",
       "        vertical-align: middle;\n",
       "    }\n",
       "\n",
       "    .dataframe tbody tr th {\n",
       "        vertical-align: top;\n",
       "    }\n",
       "\n",
       "    .dataframe thead th {\n",
       "        text-align: right;\n",
       "    }\n",
       "</style>\n",
       "<table border=\"1\" class=\"dataframe\">\n",
       "  <thead>\n",
       "    <tr style=\"text-align: right;\">\n",
       "      <th></th>\n",
       "      <th>threadName</th>\n",
       "      <th>grpThreads</th>\n",
       "      <th>allThreads</th>\n",
       "    </tr>\n",
       "  </thead>\n",
       "  <tbody>\n",
       "    <tr>\n",
       "      <th>0</th>\n",
       "      <td>jmeter-node01:60001-setUp Thread Group 1-1</td>\n",
       "      <td>1</td>\n",
       "      <td>1</td>\n",
       "    </tr>\n",
       "    <tr>\n",
       "      <th>1</th>\n",
       "      <td>jmeter-node02:60002-setUp Thread Group 1-1</td>\n",
       "      <td>1</td>\n",
       "      <td>1</td>\n",
       "    </tr>\n",
       "    <tr>\n",
       "      <th>2</th>\n",
       "      <td>jmeter-node01:60001-setUp Thread Group 1-1</td>\n",
       "      <td>1</td>\n",
       "      <td>1</td>\n",
       "    </tr>\n",
       "    <tr>\n",
       "      <th>3</th>\n",
       "      <td>jmeter-node01:60001-Listing 2-1</td>\n",
       "      <td>1</td>\n",
       "      <td>2</td>\n",
       "    </tr>\n",
       "    <tr>\n",
       "      <th>4</th>\n",
       "      <td>jmeter-node01:60001-Auth token 1-1</td>\n",
       "      <td>1</td>\n",
       "      <td>1</td>\n",
       "    </tr>\n",
       "    <tr>\n",
       "      <th>...</th>\n",
       "      <td>...</td>\n",
       "      <td>...</td>\n",
       "      <td>...</td>\n",
       "    </tr>\n",
       "    <tr>\n",
       "      <th>478</th>\n",
       "      <td>jmeter-node02:60002-Listing 2-1</td>\n",
       "      <td>1</td>\n",
       "      <td>1</td>\n",
       "    </tr>\n",
       "    <tr>\n",
       "      <th>479</th>\n",
       "      <td>jmeter-node02:60002-Listing 2-1</td>\n",
       "      <td>1</td>\n",
       "      <td>1</td>\n",
       "    </tr>\n",
       "    <tr>\n",
       "      <th>480</th>\n",
       "      <td>jmeter-node02:60002-Listing 2-1</td>\n",
       "      <td>1</td>\n",
       "      <td>1</td>\n",
       "    </tr>\n",
       "    <tr>\n",
       "      <th>481</th>\n",
       "      <td>jmeter-node02:60002-tearDown Thread Group 1-1</td>\n",
       "      <td>1</td>\n",
       "      <td>1</td>\n",
       "    </tr>\n",
       "    <tr>\n",
       "      <th>482</th>\n",
       "      <td>jmeter-node02:60002-tearDown Thread Group 1-1</td>\n",
       "      <td>1</td>\n",
       "      <td>1</td>\n",
       "    </tr>\n",
       "  </tbody>\n",
       "</table>\n",
       "<p>483 rows × 3 columns</p>\n",
       "</div>"
      ],
      "text/plain": [
       "                                        threadName  grpThreads  allThreads\n",
       "0       jmeter-node01:60001-setUp Thread Group 1-1           1           1\n",
       "1       jmeter-node02:60002-setUp Thread Group 1-1           1           1\n",
       "2       jmeter-node01:60001-setUp Thread Group 1-1           1           1\n",
       "3                  jmeter-node01:60001-Listing 2-1           1           2\n",
       "4               jmeter-node01:60001-Auth token 1-1           1           1\n",
       "..                                             ...         ...         ...\n",
       "478                jmeter-node02:60002-Listing 2-1           1           1\n",
       "479                jmeter-node02:60002-Listing 2-1           1           1\n",
       "480                jmeter-node02:60002-Listing 2-1           1           1\n",
       "481  jmeter-node02:60002-tearDown Thread Group 1-1           1           1\n",
       "482  jmeter-node02:60002-tearDown Thread Group 1-1           1           1\n",
       "\n",
       "[483 rows x 3 columns]"
      ]
     },
     "execution_count": 19,
     "metadata": {},
     "output_type": "execute_result"
    }
   ],
   "source": [
    "df.loc[:,[\"threadName\",\"grpThreads\",\"allThreads\"]]"
   ]
  },
  {
   "cell_type": "code",
   "execution_count": 16,
   "metadata": {},
   "outputs": [
    {
     "data": {
      "text/plain": [
       "array(['jmeter-node01:60001-setUp Thread Group 1-1',\n",
       "       'jmeter-node02:60002-setUp Thread Group 1-1',\n",
       "       'jmeter-node01:60001-Auth token 1-1',\n",
       "       'jmeter-node01:60001-Listing 2-1',\n",
       "       'jmeter-node02:60002-Auth token 1-1',\n",
       "       'jmeter-node02:60002-Listing 2-1',\n",
       "       'jmeter-node02:60002-tearDown Thread Group 1-1',\n",
       "       'jmeter-node01:60001-tearDown Thread Group 1-1'], dtype=object)"
      ]
     },
     "execution_count": 16,
     "metadata": {},
     "output_type": "execute_result"
    }
   ],
   "source": [
    "df.loc[:,\"threadName\"].unique()"
   ]
  },
  {
   "cell_type": "code",
   "execution_count": null,
   "metadata": {},
   "outputs": [],
   "source": []
  }
 ],
 "metadata": {
  "kernelspec": {
   "display_name": "Python 3",
   "language": "python",
   "name": "python3"
  },
  "language_info": {
   "codemirror_mode": {
    "name": "ipython",
    "version": 3
   },
   "file_extension": ".py",
   "mimetype": "text/x-python",
   "name": "python",
   "nbconvert_exporter": "python",
   "pygments_lexer": "ipython3",
   "version": "3.8.5"
  }
 },
 "nbformat": 4,
 "nbformat_minor": 4
}
