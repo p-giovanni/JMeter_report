{
 "cells": [
  {
   "cell_type": "code",
   "execution_count": 1,
   "metadata": {},
   "outputs": [],
   "source": [
    "import os\n",
    "import re\n",
    "import sys\n",
    "import json\n",
    "import codecs\n",
    "import locale\n",
    "import logging\n",
    "import requests\n",
    "from enum import Enum\n",
    "import datetime as dt\n",
    "from typing import Union, Optional, Tuple, List, cast\n",
    "\n",
    "from matplotlib import pyplot as plt    # type: ignore  \n",
    "import matplotlib.gridspec as gridspec  # type: ignore \n",
    "\n",
    "import pandas as pd\n",
    "import numpy as np"
   ]
  },
  {
   "cell_type": "code",
   "execution_count": 2,
   "metadata": {},
   "outputs": [],
   "source": [
    "#----------------------------------------------------------------\n",
    "# Configurations section\n",
    "#----------------------------------------------------------------\n",
    "\n",
    "temp_content_dir = os.path.join(os.sep, 'tmp')\n",
    "images_path = os.path.join(\"..\",\"images\")\n",
    "\n",
    "now = dt.datetime.now()\n",
    "sample_date = now.strftime(\"%d/%m/%Y\")\n",
    "\n",
    "locale.setlocale(locale.LC_ALL, 'it_IT.UTF-8')\n",
    "\n",
    "ok_statuses = [200, 201, 202]\n",
    "data_file_path = os.path.join(os.sep,\"Users\",\"ERIZZAG5J\",\"Work\",\"jmeter\")\n",
    "data_file_name = \"merge_file.jtl\"\n",
    "csv_data_file = os.path.join(data_file_path, data_file_name)\n",
    "\n",
    "image_file_prefix = \"Test-\"\n",
    "\n",
    "class TypeOfOutputChart(Enum):\n",
    "    PDF = 1\n",
    "    PNG = 2\n",
    "    JPG = 3\n",
    "\n",
    "output_chart_type = TypeOfOutputChart.JPG"
   ]
  },
  {
   "cell_type": "code",
   "execution_count": 3,
   "metadata": {},
   "outputs": [
    {
     "data": {
      "text/plain": [
       "(1140226,\n",
       " timeStamp            int64\n",
       " elapsed              int64\n",
       " label               object\n",
       " responseCode         int64\n",
       " responseMessage     object\n",
       " threadName          object\n",
       " dataType            object\n",
       " success               bool\n",
       " failureMessage      object\n",
       " bytes                int64\n",
       " sentBytes            int64\n",
       " grpThreads           int64\n",
       " allThreads           int64\n",
       " URL                 object\n",
       " Filename           float64\n",
       " Latency              int64\n",
       " SampleCount          int64\n",
       " ErrorCount           int64\n",
       " Hostname            object\n",
       " IdleTime             int64\n",
       " Connect              int64\n",
       " asset_id             int64\n",
       " dtype: object)"
      ]
     },
     "execution_count": 3,
     "metadata": {},
     "output_type": "execute_result"
    }
   ],
   "source": [
    "df = pd.read_csv(csv_data_file\n",
    "                ,sep='#')  \n",
    "(df.shape[0],df.dtypes)"
   ]
  },
  {
   "cell_type": "code",
   "execution_count": 10,
   "metadata": {},
   "outputs": [
    {
     "data": {
      "text/plain": [
       "(21080, 22)"
      ]
     },
     "execution_count": 10,
     "metadata": {},
     "output_type": "execute_result"
    }
   ],
   "source": [
    "mask = (df[\"elapsed\"] > 1000) & (df[\"responseCode\"] == 200)\n",
    "df.loc[mask,:].shape"
   ]
  },
  {
   "cell_type": "code",
   "execution_count": 8,
   "metadata": {},
   "outputs": [
    {
     "data": {
      "text/html": [
       "<div>\n",
       "<style scoped>\n",
       "    .dataframe tbody tr th:only-of-type {\n",
       "        vertical-align: middle;\n",
       "    }\n",
       "\n",
       "    .dataframe tbody tr th {\n",
       "        vertical-align: top;\n",
       "    }\n",
       "\n",
       "    .dataframe thead th {\n",
       "        text-align: right;\n",
       "    }\n",
       "</style>\n",
       "<table border=\"1\" class=\"dataframe\">\n",
       "  <thead>\n",
       "    <tr style=\"text-align: right;\">\n",
       "      <th></th>\n",
       "      <th>threadName</th>\n",
       "      <th>grpThreads</th>\n",
       "      <th>allThreads</th>\n",
       "    </tr>\n",
       "  </thead>\n",
       "  <tbody>\n",
       "    <tr>\n",
       "      <th>0</th>\n",
       "      <td>node-01 Manifest 1-1</td>\n",
       "      <td>1</td>\n",
       "      <td>1</td>\n",
       "    </tr>\n",
       "    <tr>\n",
       "      <th>1</th>\n",
       "      <td>node-01 Manifest 1-1</td>\n",
       "      <td>1</td>\n",
       "      <td>1</td>\n",
       "    </tr>\n",
       "    <tr>\n",
       "      <th>2</th>\n",
       "      <td>node-01 Manifest 1-1</td>\n",
       "      <td>1</td>\n",
       "      <td>1</td>\n",
       "    </tr>\n",
       "    <tr>\n",
       "      <th>3</th>\n",
       "      <td>node-01 Manifest 1-1</td>\n",
       "      <td>1</td>\n",
       "      <td>1</td>\n",
       "    </tr>\n",
       "    <tr>\n",
       "      <th>4</th>\n",
       "      <td>node-01 Manifest 1-1</td>\n",
       "      <td>1</td>\n",
       "      <td>1</td>\n",
       "    </tr>\n",
       "    <tr>\n",
       "      <th>...</th>\n",
       "      <td>...</td>\n",
       "      <td>...</td>\n",
       "      <td>...</td>\n",
       "    </tr>\n",
       "    <tr>\n",
       "      <th>1140221</th>\n",
       "      <td>node-02 Manifest 1-36</td>\n",
       "      <td>5</td>\n",
       "      <td>5</td>\n",
       "    </tr>\n",
       "    <tr>\n",
       "      <th>1140222</th>\n",
       "      <td>node-02 Manifest 1-30</td>\n",
       "      <td>4</td>\n",
       "      <td>4</td>\n",
       "    </tr>\n",
       "    <tr>\n",
       "      <th>1140223</th>\n",
       "      <td>node-02 Manifest 1-25</td>\n",
       "      <td>3</td>\n",
       "      <td>3</td>\n",
       "    </tr>\n",
       "    <tr>\n",
       "      <th>1140224</th>\n",
       "      <td>node-02 Manifest 1-8</td>\n",
       "      <td>2</td>\n",
       "      <td>2</td>\n",
       "    </tr>\n",
       "    <tr>\n",
       "      <th>1140225</th>\n",
       "      <td>node-02 Manifest 1-34</td>\n",
       "      <td>1</td>\n",
       "      <td>1</td>\n",
       "    </tr>\n",
       "  </tbody>\n",
       "</table>\n",
       "<p>1140226 rows × 3 columns</p>\n",
       "</div>"
      ],
      "text/plain": [
       "                    threadName  grpThreads  allThreads\n",
       "0         node-01 Manifest 1-1           1           1\n",
       "1         node-01 Manifest 1-1           1           1\n",
       "2         node-01 Manifest 1-1           1           1\n",
       "3         node-01 Manifest 1-1           1           1\n",
       "4         node-01 Manifest 1-1           1           1\n",
       "...                        ...         ...         ...\n",
       "1140221  node-02 Manifest 1-36           5           5\n",
       "1140222  node-02 Manifest 1-30           4           4\n",
       "1140223  node-02 Manifest 1-25           3           3\n",
       "1140224   node-02 Manifest 1-8           2           2\n",
       "1140225  node-02 Manifest 1-34           1           1\n",
       "\n",
       "[1140226 rows x 3 columns]"
      ]
     },
     "execution_count": 8,
     "metadata": {},
     "output_type": "execute_result"
    }
   ],
   "source": [
    "df.loc[:,[\"threadName\",\"grpThreads\",\"allThreads\"]]"
   ]
  },
  {
   "cell_type": "code",
   "execution_count": 9,
   "metadata": {},
   "outputs": [
    {
     "data": {
      "text/plain": [
       "array(['node-01 Manifest 1-1', 'node-01 Manifest 1-2',\n",
       "       'node-01 Manifest 1-3', 'node-01 Manifest 1-4',\n",
       "       'node-01 Manifest 1-5', 'node-01 Manifest 1-6',\n",
       "       'node-01 Manifest 1-7', 'node-01 Manifest 1-8',\n",
       "       'node-01 Manifest 1-9', 'node-01 Manifest 1-10',\n",
       "       'node-01 Manifest 1-11', 'node-01 Manifest 1-12',\n",
       "       'node-01 Manifest 1-13', 'node-01 Manifest 1-14',\n",
       "       'node-01 Manifest 1-15', 'node-01 Manifest 1-16',\n",
       "       'node-01 Manifest 1-17', 'node-01 Manifest 1-18',\n",
       "       'node-01 Manifest 1-19', 'node-01 Manifest 1-20',\n",
       "       'node-01 Manifest 1-21', 'node-01 Manifest 1-22',\n",
       "       'node-01 Manifest 1-23', 'node-01 Manifest 1-24',\n",
       "       'node-01 Manifest 1-25', 'node-01 Manifest 1-26',\n",
       "       'node-01 Manifest 1-27', 'node-01 Manifest 1-28',\n",
       "       'node-01 Manifest 1-29', 'node-01 Manifest 1-30',\n",
       "       'node-01 Manifest 1-31', 'node-01 Manifest 1-32',\n",
       "       'node-01 Manifest 1-33', 'node-01 Manifest 1-34',\n",
       "       'node-01 Manifest 1-35', 'node-01 Manifest 1-36',\n",
       "       'node-01 Manifest 1-37', 'node-01 Manifest 1-38',\n",
       "       'node-01 Manifest 1-39', 'node-01 Manifest 1-40',\n",
       "       'node-02 Manifest 1-1', 'node-02 Manifest 1-2',\n",
       "       'node-02 Manifest 1-3', 'node-02 Manifest 1-4',\n",
       "       'node-02 Manifest 1-5', 'node-02 Manifest 1-6',\n",
       "       'node-02 Manifest 1-7', 'node-02 Manifest 1-8',\n",
       "       'node-02 Manifest 1-9', 'node-02 Manifest 1-10',\n",
       "       'node-02 Manifest 1-11', 'node-02 Manifest 1-12',\n",
       "       'node-02 Manifest 1-13', 'node-02 Manifest 1-14',\n",
       "       'node-02 Manifest 1-15', 'node-02 Manifest 1-16',\n",
       "       'node-02 Manifest 1-17', 'node-02 Manifest 1-18',\n",
       "       'node-02 Manifest 1-19', 'node-02 Manifest 1-20',\n",
       "       'node-02 Manifest 1-21', 'node-02 Manifest 1-22',\n",
       "       'node-02 Manifest 1-23', 'node-02 Manifest 1-24',\n",
       "       'node-02 Manifest 1-25', 'node-02 Manifest 1-26',\n",
       "       'node-02 Manifest 1-27', 'node-02 Manifest 1-28',\n",
       "       'node-02 Manifest 1-29', 'node-02 Manifest 1-30',\n",
       "       'node-02 Manifest 1-31', 'node-02 Manifest 1-32',\n",
       "       'node-02 Manifest 1-33', 'node-02 Manifest 1-34',\n",
       "       'node-02 Manifest 1-35', 'node-02 Manifest 1-36',\n",
       "       'node-02 Manifest 1-37', 'node-02 Manifest 1-38',\n",
       "       'node-02 Manifest 1-39', 'node-02 Manifest 1-40'], dtype=object)"
      ]
     },
     "execution_count": 9,
     "metadata": {},
     "output_type": "execute_result"
    }
   ],
   "source": [
    "df.loc[:,\"threadName\"].unique()"
   ]
  },
  {
   "cell_type": "code",
   "execution_count": null,
   "metadata": {},
   "outputs": [],
   "source": []
  }
 ],
 "metadata": {
  "kernelspec": {
   "display_name": "Python 3 (ipykernel)",
   "language": "python",
   "name": "python3"
  },
  "language_info": {
   "codemirror_mode": {
    "name": "ipython",
    "version": 3
   },
   "file_extension": ".py",
   "mimetype": "text/x-python",
   "name": "python",
   "nbconvert_exporter": "python",
   "pygments_lexer": "ipython3",
   "version": "3.8.9"
  }
 },
 "nbformat": 4,
 "nbformat_minor": 4
}
