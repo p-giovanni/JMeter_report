{
 "cells": [
  {
   "cell_type": "code",
   "execution_count": 1,
   "metadata": {},
   "outputs": [
    {
     "data": {
      "text/plain": [
       "'LC_CTYPE=en_US.UTF-8;LC_NUMERIC=it_IT.UTF-8;LC_TIME=it_IT.UTF-8;LC_COLLATE=en_US.UTF-8;LC_MONETARY=it_IT.UTF-8;LC_MESSAGES=en_US.UTF-8;LC_PAPER=it_IT.UTF-8;LC_NAME=it_IT.UTF-8;LC_ADDRESS=it_IT.UTF-8;LC_TELEPHONE=it_IT.UTF-8;LC_MEASUREMENT=it_IT.UTF-8;LC_IDENTIFICATION=it_IT.UTF-8'"
      ]
     },
     "execution_count": 1,
     "metadata": {},
     "output_type": "execute_result"
    }
   ],
   "source": [
    "from __future__ import print_function \n",
    "import os \n",
    "from textwrap import wrap\n",
    "import locale\n",
    "import pandas as pd \n",
    "import numpy as np \n",
    "\n",
    "%matplotlib inline \n",
    "from matplotlib import pyplot as plt \n",
    "\n",
    "from pandas.plotting import autocorrelation_plot\n",
    "\n",
    "from statsmodels.tsa import stattools\n",
    "\n",
    "locale.setlocale(locale.LC_ALL, '')\n"
   ]
  },
  {
   "cell_type": "code",
   "execution_count": 2,
   "metadata": {},
   "outputs": [],
   "source": [
    "# \n",
    "# Some common functions.\n",
    "# \n",
    "def remove_tick_lines(which, ax):\n",
    "    if which == 'y':\n",
    "        for line in ax.yaxis.get_majorticklines():\n",
    "            line.set_visible(False)\n",
    "    elif which == 'x':\n",
    "        for line in ax.xaxis.get_majorticklines():\n",
    "            line.set_visible(False)\n",
    "    else:\n",
    "        assert False, \"Wrong axis parameter.\"\n",
    "\n",
    "def every_nth_tick(ax, every_nth = 2):\n",
    "    for n, label in enumerate(ax.xaxis.get_ticklabels()):\n",
    "        if n % every_nth != 0:\n",
    "            label.set_visible(False)\n",
    "\n",
    "def autolabel(rects, ax, dec_no=0):\n",
    "    \"\"\"\n",
    "    Attach a text label above each bar displaying its height\n",
    "    \"\"\"\n",
    "    for rect in rects:\n",
    "        height = rect.get_height()\n",
    "        ax.text(rect.get_x() + rect.get_width() / 2., height + (height * 0.01),\n",
    "                '%s' % round(height, dec_no),\n",
    "                ha='center', va='bottom')\n",
    "\n",
    "def set_axes_common_properties(axe, no_grid=False):\n",
    "    rv = 1\n",
    "    try:\n",
    "        axe.spines['top'].set_visible(False)\n",
    "        axe.spines['left'].set_visible(False)\n",
    "        axe.spines['right'].set_visible(False)\n",
    "        axe.spines['bottom'].set_visible(False)\n",
    "        if no_grid == False:\n",
    "            axe.grid(color='#636262', linestyle='-.', linewidth=0.2)\n",
    "        rv = 0\n",
    "    except Exception as ex:\n",
    "        print(\"Errore - {e}\".format(e=str(ex)))\n",
    "        \n",
    "    return rv\n"
   ]
  },
  {
   "cell_type": "code",
   "execution_count": 3,
   "metadata": {},
   "outputs": [],
   "source": [
    "data_file_path = \"/home/giovanni/code-sky/JMeter/MvtGateway/log\"\n",
    "data_file_name = \"MvtC2CGateway-C2C-only_20180516_153201-.jtl\"\n",
    "\n",
    "data_file = os.path.join(data_file_path, data_file_name)"
   ]
  },
  {
   "cell_type": "code",
   "execution_count": 4,
   "metadata": {},
   "outputs": [
    {
     "data": {
      "text/html": [
       "<div>\n",
       "<style scoped>\n",
       "    .dataframe tbody tr th:only-of-type {\n",
       "        vertical-align: middle;\n",
       "    }\n",
       "\n",
       "    .dataframe tbody tr th {\n",
       "        vertical-align: top;\n",
       "    }\n",
       "\n",
       "    .dataframe thead th {\n",
       "        text-align: right;\n",
       "    }\n",
       "</style>\n",
       "<table border=\"1\" class=\"dataframe\">\n",
       "  <thead>\n",
       "    <tr style=\"text-align: right;\">\n",
       "      <th></th>\n",
       "      <th>timeStamp_</th>\n",
       "      <th>elapsed</th>\n",
       "      <th>responseCode</th>\n",
       "      <th>responseMessage</th>\n",
       "      <th>grpThreads</th>\n",
       "      <th>allThreads</th>\n",
       "    </tr>\n",
       "  </thead>\n",
       "  <tbody>\n",
       "    <tr>\n",
       "      <th>0</th>\n",
       "      <td>2018-05-16 15:32:03.967</td>\n",
       "      <td>125</td>\n",
       "      <td>200</td>\n",
       "      <td>OK</td>\n",
       "      <td>1</td>\n",
       "      <td>1</td>\n",
       "    </tr>\n",
       "    <tr>\n",
       "      <th>1</th>\n",
       "      <td>2018-05-16 15:32:04.100</td>\n",
       "      <td>22</td>\n",
       "      <td>200</td>\n",
       "      <td>OK</td>\n",
       "      <td>1</td>\n",
       "      <td>1</td>\n",
       "    </tr>\n",
       "  </tbody>\n",
       "</table>\n",
       "</div>"
      ],
      "text/plain": [
       "               timeStamp_  elapsed  responseCode responseMessage  grpThreads  \\\n",
       "0 2018-05-16 15:32:03.967      125           200              OK           1   \n",
       "1 2018-05-16 15:32:04.100       22           200              OK           1   \n",
       "\n",
       "   allThreads  \n",
       "0           1  \n",
       "1           1  "
      ]
     },
     "execution_count": 4,
     "metadata": {},
     "output_type": "execute_result"
    }
   ],
   "source": [
    "dtype_dict = {\n",
    "}\n",
    "\n",
    "parse_dates = [\"timeStamp\"]\n",
    "\n",
    "columns = [\"timeStamp_\", \"elapsed\", \"responseCode\", \"responseMessage\",\"grpThreads\",\"allThreads\"]\n",
    "\n",
    "df = pd.read_csv(data_file, sep='#', lineterminator='\\n'\n",
    "                ,low_memory=False\n",
    "                ,dtype=dtype_dict)\n",
    "df[\"timeStamp_\"] = pd.to_datetime(df[\"timeStamp\"], unit='ms')\n",
    "df.sort_values(by=[\"timeStamp_\"], inplace=True)\n",
    "\n",
    "# Get just the columns we need.\n",
    "df = df[columns]\n",
    "\n",
    "#(df_red.shape, df_red.dtypes)\n",
    "df.head(2)"
   ]
  },
  {
   "cell_type": "code",
   "execution_count": 18,
   "metadata": {},
   "outputs": [],
   "source": [
    "global_statistics = {\n",
    "     \"duration\": None\n",
    "    ,\"max threads\": None\n",
    "}\n",
    "dec_num = 2\n",
    "ok_codes [200, 202]"
   ]
  },
  {
   "cell_type": "code",
   "execution_count": 29,
   "metadata": {},
   "outputs": [
    {
     "data": {
      "text/plain": [
       "{'duration': 15.0,\n",
       " 'max threads': 150,\n",
       " 'max elapsed': 3359,\n",
       " 'min elapsed': 12,\n",
       " 'mean elapsed': 843.23,\n",
       " 'std error elapsed': 2.15,\n",
       " 'sample num': 106622,\n",
       " 'quantiles elapsed': 0.0      12.0\n",
       " 0.1      77.0\n",
       " 0.2     203.0\n",
       " 0.3     387.0\n",
       " 0.4     553.0\n",
       " 0.5     683.0\n",
       " 0.6     803.0\n",
       " 0.7    1016.0\n",
       " 0.8    1366.0\n",
       " 0.9    2123.0\n",
       " Name: elapsed, dtype: float64}"
      ]
     },
     "execution_count": 29,
     "metadata": {},
     "output_type": "execute_result"
    }
   ],
   "source": [
    "# Calculate the test duration in minutes.\n",
    "begin_d = df[\"timeStamp_\"].min()\n",
    "end_d = df[\"timeStamp_\"].max()\n",
    "duration = end_d - begin_d\n",
    "\n",
    "global_statistics[\"duration\"] = round(duration.total_seconds() / 60, dec_num)\n",
    "\n",
    "# Max number of threads.\n",
    "global_statistics[\"max threads\"] = df[\"allThreads\"].max()\n",
    "\n",
    "# Sample len.\n",
    "global_statistics[\"sample num\"] = df.shape[0]\n",
    "\n",
    "# Service time statistics.\n",
    "global_statistics[\"max elapsed\"] = df[\"elapsed\"].max()\n",
    "global_statistics[\"min elapsed\"] = df[\"elapsed\"].min()\n",
    "global_statistics[\"mean elapsed\"] = round(df[\"elapsed\"].mean(), dec_num)\n",
    "global_statistics[\"std error elapsed\"] = round(df[\"elapsed\"].sem(), dec_num)\n",
    "global_statistics[\"quantiles elapsed\"] = df[\"elapsed\"].quantile(np.arange(0, 1, 0.1))\n",
    "\n",
    "# Total transactions (sample not in error per second).\n",
    "global_statistics[\"quantiles elapsed\"]\n",
    "global_statistics"
   ]
  },
  {
   "cell_type": "code",
   "execution_count": 31,
   "metadata": {},
   "outputs": [
    {
     "data": {
      "text/plain": [
       "106622"
      ]
     },
     "execution_count": 31,
     "metadata": {},
     "output_type": "execute_result"
    }
   ],
   "source": [
    "df['responseCode'].value_counts().loc[200]\n"
   ]
  },
  {
   "cell_type": "code",
   "execution_count": null,
   "metadata": {},
   "outputs": [],
   "source": []
  }
 ],
 "metadata": {
  "kernelspec": {
   "display_name": "Python 3",
   "language": "python",
   "name": "python3"
  },
  "language_info": {
   "codemirror_mode": {
    "name": "ipython",
    "version": 3
   },
   "file_extension": ".py",
   "mimetype": "text/x-python",
   "name": "python",
   "nbconvert_exporter": "python",
   "pygments_lexer": "ipython3",
   "version": "3.6.7"
  }
 },
 "nbformat": 4,
 "nbformat_minor": 2
}
